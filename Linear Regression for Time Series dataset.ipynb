{
 "cells": [
  {
   "cell_type": "markdown",
   "metadata": {},
   "source": [
    "# **Implementation Task 1**\n",
    "## **For JMM**\n",
    "\n"
   ]
  },
  {
   "cell_type": "code",
   "execution_count": 6,
   "metadata": {},
   "outputs": [],
   "source": [
    "import numpy as np\n",
    "import pandas as pd\n",
    "import matplotlib.pyplot as plt"
   ]
  },
  {
   "cell_type": "code",
   "execution_count": 8,
   "metadata": {},
   "outputs": [
    {
     "name": "stdout",
     "output_type": "stream",
     "text": [
      "(10, 3)\n",
      "            Position  Level  Salary\n",
      "0   Business Analyst      1      45\n",
      "1  Junior Consultant      2      50\n",
      "2  Senior Consultant      3      60\n",
      "3            Manager      4      80\n",
      "4    Country Manager      5     110\n",
      "5     Region Manager      6     150\n",
      "6            Partner      7     200\n",
      "7     Senior Partner      8     300\n",
      "8            C-level      9     500\n",
      "9                CEO     10    1000\n"
     ]
    }
   ],
   "source": [
    "data = pd.read_csv('posal.csv')\n",
    "print(data.shape)\n",
    "print(data)"
   ]
  },
  {
   "cell_type": "code",
   "execution_count": 9,
   "metadata": {},
   "outputs": [
    {
     "data": {
      "image/png": "[encoded data removed]",
      "text/plain": [
       "<Figure size 432x288 with 1 Axes>"
      ]
     },
     "metadata": {
      "needs_background": "light"
     },
     "output_type": "display_data"
    }
   ],
   "source": [
    "x1 = data['Level'].values\n",
    "sal=data['Salary'].values\n",
    "plt.scatter(x1, sal)\n",
    "plt.title(\"pos-sal graph\")\n",
    "plt.xlabel(\"level\")\n",
    "plt.ylabel(\"salary\")\n",
    "plt.show()\n",
    "x1 = data['Level'].values\n",
    "x1=x1/np.max(x1)\n",
    "x2 = x1**2\n",
    "x2=x2/np.max(x2)\n",
    "x3 = x1**3\n",
    "x3 = x3/np.max(x3)\n",
    "x4 = x1**4 \n",
    "x4 = x4/np.max(x4)\n",
    "sal=data['Salary'].values\n",
    "m = len(x1)\n",
    "x0 = np.ones(m)\n",
    "X=np.vstack((x0, x1, x2, x3, x4)).T\n",
    "theta = np.array([0, 0, 0, 0, 0])\n",
    "Y = np.array(sal)"
   ]
  },
  {
   "cell_type": "code",
   "execution_count": 10,
   "metadata": {},
   "outputs": [],
   "source": [
    "def cost_function(X, Y, theta):\n",
    "    m = len(Y)\n",
    "    J = np.sum((X.dot(theta) - Y) ** 2)/(2 * m)\n",
    "    return J\n",
    "def gradient_descent(X, Y, theta, alpha, iterations):\n",
    "    cost_history = np.zeros((iterations))\n",
    "    m = len(Y)\n",
    "    for iteration in range(iterations):\n",
    "        h_theta = X.dot(theta) # Model value\n",
    "        loss = h_theta - Y # Difference b/w model and actual Y\n",
    "        gradient = X.T.dot(loss) / m # All partial derivatives in one line\n",
    "        theta = theta - alpha * gradient # Updating theta\n",
    "        cost = cost_function(X, Y, theta) # New cost value\n",
    "        cost_history[iteration] = cost\n",
    "    return theta, cost_history"
   ]
  },
  {
   "cell_type": "code",
   "execution_count": 11,
   "metadata": {},
   "outputs": [
    {
     "name": "stdout",
     "output_type": "stream",
     "text": [
      "Initial Cost 71456.25\n",
      "Final Coefficients [  63.28019997 -157.87131175   72.80406293  335.72158094  563.71536939]\n",
      "Final Cost 1785.0262809395172\n"
     ]
    },
    {
     "data": {
      "image/png": "[encoded data removed]",
      "text/plain": [
       "<Figure size 432x288 with 1 Axes>"
      ]
     },
     "metadata": {
      "needs_background": "light"
     },
     "output_type": "display_data"
    }
   ],
   "source": [
    "# learning rate\n",
    "alpha = 0.0001\n",
    "inital_cost = cost_function(X, Y, theta)\n",
    "print('Initial Cost', inital_cost)\n",
    "# 1000000 Iterations\n",
    "finaltheta, cost_history = gradient_descent(X, Y, theta, alpha, 1000000)\n",
    "print('Final Coefficients', finaltheta) # final model parameters theta\n",
    "print('Final Cost', cost_history[-1]) # final cost\n",
    "h_theta = X.dot(finaltheta)  # Final Model\n",
    "plt.scatter(x1, sal)\n",
    "plt.plot(x1,h_theta)\n",
    "plt.title(\"pos-sal graph\")\n",
    "plt.xlabel(\"level\")\n",
    "plt.ylabel(\"salary\")\n",
    "plt.show()"
   ]
  },
  {
   "cell_type": "markdown",
   "metadata": {},
   "source": [
    "## Lets do predecition for level 6.5 lets say, to check model output on a time series, continous value. "
   ]
  },
  {
   "cell_type": "code",
   "execution_count": 12,
   "metadata": {},
   "outputs": [
    {
     "name": "stdout",
     "output_type": "stream",
     "text": [
      "COST for 6.5 184.24781974142473\n"
     ]
    }
   ],
   "source": [
    "#Predictions\n",
    "sample = np.array([1,6.5/10,(6.5/10)**2,(6.5/10)**3,(6.5/10)**4])\n",
    "predsal = sample.dot(finaltheta)\n",
    "print('COST for 6.5', predsal)\n"
   ]
  },
  {
   "cell_type": "code",
   "execution_count": null,
   "metadata": {},
   "outputs": [],
   "source": []
  }
 ],
 "metadata": {
  "kernelspec": {
   "display_name": "Python 3",
   "language": "python",
   "name": "python3"
  },
  "language_info": {
   "codemirror_mode": {
    "name": "ipython",
    "version": 3
   },
   "file_extension": ".py",
   "mimetype": "text/x-python",
   "name": "python",
   "nbconvert_exporter": "python",
   "pygments_lexer": "ipython3",
   "version": "3.7.4"
  }
 },
 "nbformat": 4,
 "nbformat_minor": 2
}
